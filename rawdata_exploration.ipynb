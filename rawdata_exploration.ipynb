{
 "cells": [
  {
   "cell_type": "markdown",
   "metadata": {},
   "source": [
    "## Raw data exploratory visualisation and summarisation\n",
    "\n",
    "The goal this notebook is to derive meaningful insights from the raw data set and process it accordingly"
   ]
  },
  {
   "cell_type": "code",
   "execution_count": 1,
   "metadata": {
    "collapsed": true
   },
   "outputs": [],
   "source": [
    "# Necessary imports\n",
    "\n",
    "import numpy as np\n",
    "import glob\n",
    "import matplotlib.image as mpimg\n",
    "import matplotlib.pyplot as plt\n",
    "import pickle\n",
    "\n",
    "%matplotlib inline"
   ]
  },
  {
   "cell_type": "code",
   "execution_count": 2,
   "metadata": {
    "collapsed": true
   },
   "outputs": [],
   "source": [
    "## 1. Get the raw data set\n",
    "\n",
    "cars0 = glob.glob('vehicles/GTI_Far/*.png')\n",
    "cars1 = glob.glob('vehicles/GTI_Left/*.png')\n",
    "cars2 = glob.glob('vehicles/GTI_MiddleClose/*.png')\n",
    "cars3 = glob.glob('vehicles/GTI_Right/*.png')\n",
    "cars4 = glob.glob('vehicles/KITTI_extracted/*.png')\n",
    "\n",
    "notcars = glob.glob('non-vehicles/Extras/*.png')\n",
    "notcars += glob.glob('non-vehicles/GTI/*.png')\n",
    "\n",
    "# Compute their respective lengths\n",
    "cl0, cl1, cl2, cl3, cl4 = len(cars0), len(cars1), len(cars2), len(cars3), len(cars4)\n",
    "ncl = len(notcars)"
   ]
  },
  {
   "cell_type": "code",
   "execution_count": 3,
   "metadata": {},
   "outputs": [
    {
     "name": "stdout",
     "output_type": "stream",
     "text": [
      "Total # vehicle images: 8792\n",
      "Total # non-vehicle images: 8957\n",
      "Image shape: (64, 64, 3)\n",
      "Image dtype: float32\n"
     ]
    },
    {
     "data": {
      "text/plain": [
       "<matplotlib.image.AxesImage at 0x1068b82e8>"
      ]
     },
     "execution_count": 3,
     "metadata": {},
     "output_type": "execute_result"
    },
    {
     "data": {
      "image/png": "[encoded data removed]",
      "text/plain": [
       "<matplotlib.figure.Figure at 0x11085ffd0>"
      ]
     },
     "metadata": {},
     "output_type": "display_data"
    }
   ],
   "source": [
    "## 2. Initial data set exploratory visulastion and summarisation\n",
    "\n",
    "imtest = mpimg.imread(cars0[0])\n",
    "\n",
    "print('Total # vehicle images: {}'.format(np.sum([cl0, cl1, cl2, cl3, cl4])))\n",
    "print('Total # non-vehicle images: {}'.format(np.sum([ncl])))\n",
    "print('Image shape: {}'.format(imtest.shape))\n",
    "print('Image dtype: {}'.format(imtest.dtype))\n",
    "\n",
    "car_idx = np.random.randint(0, len(cars0))\n",
    "notcar_idx = np.random.randint(0, len(notcars))\n",
    "\n",
    "car_img = mpimg.imread(cars0[car_idx])\n",
    "notcar_img = mpimg.imread(notcars[notcar_idx])\n",
    "\n",
    "plt.figure(figsize=(10, 8))\n",
    "plt.subplot(121)\n",
    "plt.axis('off')\n",
    "plt.title('Vehicle Image')\n",
    "plt.imshow(car_img)\n",
    "plt.subplot(122)\n",
    "plt.axis('off')\n",
    "plt.title('Non-vehicle Image')\n",
    "plt.imshow(notcar_img)"
   ]
  },
  {
   "cell_type": "code",
   "execution_count": 4,
   "metadata": {},
   "outputs": [
    {
     "name": "stdout",
     "output_type": "stream",
     "text": [
      "# Training vehicle examples: 7911\n",
      "# Training non-vehicle examples: 8061\n",
      "\n",
      "# Test vehicle examples: 881\n",
      "# Test non-vehicle examples: 896\n",
      "\n",
      "Pickling the processed raw dataset of image paths...\n",
      "Completed successfully!\n"
     ]
    }
   ],
   "source": [
    "# NO Randomised Shuffling. Splitting the data set into Training/Test set\n",
    "# with a 90/10 split to deal with time series data.\n",
    "\n",
    "L = (0.9 * np.array([cl0, cl1, cl2, cl3, cl4, ncl])).astype('int')\n",
    "\n",
    "cars_train = cars0[:L[0]] + cars1[:L[1]] + cars2[:L[2]] + cars3[:L[3]]\\\n",
    "                + cars4[:L[4]]\n",
    "    \n",
    "notcars_train = notcars[:L[5]]\n",
    "\n",
    "cars_test = cars0[L[0]:] + cars1[L[1]:]\\\n",
    "                + cars2[L[2]:] + cars3[L[3]:] + cars4[L[4]:]\n",
    "notcars_test = notcars[L[5]:]\n",
    "\n",
    "print('# Training vehicle examples: {}'.format(len(cars_train)))\n",
    "print('# Training non-vehicle examples: {}'.format(len(notcars_train)))\n",
    "print()\n",
    "print('# Test vehicle examples: {}'.format(len(cars_test)))\n",
    "print('# Test non-vehicle examples: {}'.format(len(notcars_test)))\n",
    "print()\n",
    "\n",
    "# Pickling this processed raw dataset of image paths\n",
    "try:\n",
    "    print('Pickling the processed raw dataset of image paths...')\n",
    "    with open('rawdata.p', mode='wb') as f:\n",
    "        pickle.dump({\n",
    "            'cars_train': cars_train,\n",
    "            'notcars_train': notcars_train,\n",
    "            'cars_test': cars_test,\n",
    "            'notcars_test': notcars_test\n",
    "        }, f)\n",
    "    print('Completed successfully!')\n",
    "    \n",
    "except Expection as e:\n",
    "    print('ERROR: Pickling failed with exception: {}'.format(e))"
   ]
  }
 ],
 "metadata": {
  "kernelspec": {
   "display_name": "Python 3",
   "language": "python",
   "name": "python3"
  },
  "language_info": {
   "codemirror_mode": {
    "name": "ipython",
    "version": 3
   },
   "file_extension": ".py",
   "mimetype": "text/x-python",
   "name": "python",
   "nbconvert_exporter": "python",
   "pygments_lexer": "ipython3",
   "version": "3.7.7"
  },
  "widgets": {
   "state": {},
   "version": "1.1.2"
  }
 },
 "nbformat": 4,
 "nbformat_minor": 2
}
